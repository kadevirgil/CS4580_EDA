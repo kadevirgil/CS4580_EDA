{
 "cells": [
  {
   "cell_type": "markdown",
   "metadata": {},
   "source": [
    "## Main notebook for EDA Assignment\n",
    "#### Make sure to go through the steps in the `data/README.md` file\n",
    "#### To ensure you have your project setup correctly before using this file"
   ]
  },
  {
   "cell_type": "code",
   "execution_count": 5,
   "metadata": {},
   "outputs": [
    {
     "name": "stdout",
     "output_type": "stream",
     "text": [
      "Setup Complete\n"
     ]
    }
   ],
   "source": [
    "import pandas as pd\n",
    "import matplotlib.pyplot as plt\n",
    "import numpy as np\n",
    "import seaborn as sns\n",
    "%matplotlib inline\n",
    "print(\"Setup Complete\")"
   ]
  },
  {
   "cell_type": "code",
   "execution_count": 6,
   "metadata": {},
   "outputs": [
    {
     "name": "stdout",
     "output_type": "stream",
     "text": [
      "<class 'pandas.core.frame.DataFrame'>\n",
      "RangeIndex: 6840 entries, 0 to 6839\n",
      "Data columns (total 40 columns):\n",
      " #   Column         Non-Null Count  Dtype  \n",
      "---  ------         --------------  -----  \n",
      " 0   Unnamed: 0     6840 non-null   int64  \n",
      " 1   Date           6840 non-null   object \n",
      " 2   HomeTeam       6840 non-null   object \n",
      " 3   AwayTeam       6840 non-null   object \n",
      " 4   FTHG           6840 non-null   int64  \n",
      " 5   FTAG           6840 non-null   int64  \n",
      " 6   FTR            6840 non-null   object \n",
      " 7   HTGS           6840 non-null   int64  \n",
      " 8   ATGS           6840 non-null   int64  \n",
      " 9   HTGC           6840 non-null   int64  \n",
      " 10  ATGC           6840 non-null   int64  \n",
      " 11  HTP            6840 non-null   float64\n",
      " 12  ATP            6840 non-null   float64\n",
      " 13  HM1            6840 non-null   object \n",
      " 14  HM2            6840 non-null   object \n",
      " 15  HM3            6840 non-null   object \n",
      " 16  HM4            6840 non-null   object \n",
      " 17  HM5            6840 non-null   object \n",
      " 18  AM1            6840 non-null   object \n",
      " 19  AM2            6840 non-null   object \n",
      " 20  AM3            6840 non-null   object \n",
      " 21  AM4            6840 non-null   object \n",
      " 22  AM5            6840 non-null   object \n",
      " 23  MW             6840 non-null   float64\n",
      " 24  HTFormPtsStr   6840 non-null   object \n",
      " 25  ATFormPtsStr   6840 non-null   object \n",
      " 26  HTFormPts      6840 non-null   int64  \n",
      " 27  ATFormPts      6840 non-null   int64  \n",
      " 28  HTWinStreak3   6840 non-null   int64  \n",
      " 29  HTWinStreak5   6840 non-null   int64  \n",
      " 30  HTLossStreak3  6840 non-null   int64  \n",
      " 31  HTLossStreak5  6840 non-null   int64  \n",
      " 32  ATWinStreak3   6840 non-null   int64  \n",
      " 33  ATWinStreak5   6840 non-null   int64  \n",
      " 34  ATLossStreak3  6840 non-null   int64  \n",
      " 35  ATLossStreak5  6840 non-null   int64  \n",
      " 36  HTGD           6840 non-null   float64\n",
      " 37  ATGD           6840 non-null   float64\n",
      " 38  DiffPts        6840 non-null   float64\n",
      " 39  DiffFormPts    6840 non-null   float64\n",
      "dtypes: float64(7), int64(17), object(16)\n",
      "memory usage: 2.1+ MB\n"
     ]
    }
   ],
   "source": [
    "# Load the data from the CSV file\n",
    "file_path = 'data/final_dataset.csv'\n",
    "results_df = pd.read_csv(file_path)\n",
    "\n",
    "# Display inofrmation about the data\n",
    "results_df.info()"
   ]
  },
  {
   "cell_type": "code",
   "execution_count": null,
   "metadata": {},
   "outputs": [],
   "source": []
  }
 ],
 "metadata": {
  "kernelspec": {
   "display_name": "EDA",
   "language": "python",
   "name": "python3"
  },
  "language_info": {
   "codemirror_mode": {
    "name": "ipython",
    "version": 3
   },
   "file_extension": ".py",
   "mimetype": "text/x-python",
   "name": "python",
   "nbconvert_exporter": "python",
   "pygments_lexer": "ipython3",
   "version": "3.12.7"
  }
 },
 "nbformat": 4,
 "nbformat_minor": 2
}
